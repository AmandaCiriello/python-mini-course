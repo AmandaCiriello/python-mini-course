{
 "cells": [
  {
   "attachments": {},
   "cell_type": "markdown",
   "metadata": {},
   "source": [
    "# Course information\n",
    "Write a program that creates a dictionary containing course numbers and the room numbers of the rooms where the courses meet.\n",
    "\n",
    "The program should let the user enter a course number, then it should display the course’s room number, instructor, and meeting time."
   ]
  },
  {
   "cell_type": "code",
   "execution_count": 1,
   "metadata": {},
   "outputs": [
    {
     "data": {
      "text/plain": [
       "'Python Beginner'"
      ]
     },
     "execution_count": 1,
     "metadata": {},
     "output_type": "execute_result"
    }
   ],
   "source": [
    "directory = {\n",
    "    \"S344\":{\n",
    "    \"classname\": \"Python Beginner\",\n",
    "    \"meetingtime\": \"3:15PM\",\n",
    "    \"insctuctor\": \"Jacob\"\n",
    "    }\n",
    "}\n",
    "directory[\"S344\"][\"classname\"]"
   ]
  }
 ],
 "metadata": {
  "kernelspec": {
   "display_name": "Python 3",
   "language": "python",
   "name": "python3"
  },
  "language_info": {
   "codemirror_mode": {
    "name": "ipython",
    "version": 3
   },
   "file_extension": ".py",
   "mimetype": "text/x-python",
   "name": "python",
   "nbconvert_exporter": "python",
   "pygments_lexer": "ipython3",
   "version": "3.9.6"
  },
  "orig_nbformat": 4
 },
 "nbformat": 4,
 "nbformat_minor": 2
}
